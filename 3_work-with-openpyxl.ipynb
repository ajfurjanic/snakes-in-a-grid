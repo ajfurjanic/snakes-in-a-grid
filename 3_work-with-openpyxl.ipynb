{
 "cells": [
  {
   "cell_type": "markdown",
   "id": "6a8cc18b",
   "metadata": {},
   "source": [
    "<img src=\"img/tutorial-grid-snakes-light-header.svg\" alt=\"tutorial-logo\" style=\"width: 100%;\"/>"
   ]
  },
  {
   "cell_type": "markdown",
   "id": "c7fb72f8",
   "metadata": {},
   "source": [
    "# Working with spreadsheets with OpenPyXL\n",
    "\n",
    "In this section of the tutorial, we will learn how to work with spreadsheets using the [`openpyxl`](https://openpyxl.readthedocs.io/en/stable/index.html) library in Python. [`openpyxl`](https://openpyxl.readthedocs.io/en/stable/index.html) is a powerful library that allows you to read, write, and manipulate spreadsheet files in the Excel 2010 `xlsx`/`xlsm`/`xltx`/`xltm` format."
   ]
  },
  {
   "cell_type": "markdown",
   "id": "1cbda97a",
   "metadata": {},
   "source": [
    "There are a few other options that might address other usecases:\n",
    "- [`pylightxl`](https://github.com/PydPiper/pylightxl) if you need just cell data and want a lightweight, pure python library\n",
    "- [`xlsxwriter`](https://xlsxwriter.readthedocs.io/) another one of the engines that Pandas can use to read/write Excel files"
   ]
  },
  {
   "cell_type": "markdown",
   "id": "fb9f159a",
   "metadata": {},
   "source": [
    ">N.B. OpenPyXL needs `pillow` to work with images in the spreadsheets, so make sure to install it in your environment if you are not working in the dev container!\n"
   ]
  },
  {
   "cell_type": "markdown",
   "id": "fbd77c0f",
   "metadata": {},
   "source": [
    "## Loading data from a spreadsheet"
   ]
  },
  {
   "cell_type": "code",
   "execution_count": 1,
   "id": "36212cf2",
   "metadata": {},
   "outputs": [
    {
     "name": "stdout",
     "output_type": "stream",
     "text": [
      "<openpyxl.worksheet.formula.ArrayFormula object at 0x7f8224431a90>\n"
     ]
    },
    {
     "data": {
      "text/plain": [
       "['Iris']"
      ]
     },
     "execution_count": 1,
     "metadata": {},
     "output_type": "execute_result"
    }
   ],
   "source": [
    "from openpyxl import load_workbook\n",
    "wb = load_workbook(filename = 'sample-data/iris-data.xlsx')\n",
    "print(wb.active['g3'].value)\n",
    "wb.sheetnames"
   ]
  },
  {
   "cell_type": "markdown",
   "id": "af9f0cb7",
   "metadata": {},
   "source": [
    "> N.B. openpyxl does currently not read all possible items in an Excel file so shapes will be lost from existing files if they are opened and saved with the same name."
   ]
  },
  {
   "cell_type": "markdown",
   "id": "1387c8c1",
   "metadata": {},
   "source": [
    "Again, some potentially useful options to `load_workbook` are:\n",
    "\n",
    "- `data_only` controls whether cells with formulae have either the\n",
    "formula (default) or the value stored the last time Excel read the sheet.\n",
    "\n",
    "- `keep_vba` controls whether any Visual Basic elements are preserved or\n",
    "not (default). If they are preserved they are still not editable.\n",
    "\n",
    "- `read-only` opens workbooks in a read-only mode. This uses much less\n",
    "memory and is faster but not all features are available (charts, images, etc.)\n",
    "\n",
    "- `rich_text` controls whether any rich-text formatting in cells is\n",
    "preserved. The default is False.\n",
    "\n",
    "- `keep_links` controls whether data cached from external workbooks is\n",
    "preserved"
   ]
  },
  {
   "cell_type": "code",
   "execution_count": 2,
   "id": "7a2ae07b",
   "metadata": {},
   "outputs": [
    {
     "name": "stdout",
     "output_type": "stream",
     "text": [
      "#VALUE!\n"
     ]
    }
   ],
   "source": [
    "from openpyxl import load_workbook\n",
    "wb = load_workbook(filename = 'sample-data/iris-data.xlsx', data_only=True)\n",
    "print(wb.active['g3'].value)"
   ]
  },
  {
   "cell_type": "markdown",
   "id": "34fda2e2",
   "metadata": {},
   "source": [
    "## Creating a basic spreadsheet from scratch"
   ]
  },
  {
   "cell_type": "code",
   "execution_count": 3,
   "id": "81fffdac",
   "metadata": {},
   "outputs": [],
   "source": [
    "from openpyxl import Workbook\n",
    "wb = Workbook()\n",
    "\n",
    "# grab the active worksheet\n",
    "ws = wb.active\n",
    "\n",
    "# Data can be assigned directly to cells\n",
    "ws['A1'] = 42\n",
    "\n",
    "# Rows can also be appended\n",
    "ws.append([1, 2, 3])\n",
    "\n",
    "# Python types will automatically be converted\n",
    "import datetime\n",
    "ws['A2'] = datetime.datetime.now()\n",
    "\n",
    "# Save the file\n",
    "wb.save(\"sample-data/scratch.xlsx\")"
   ]
  },
  {
   "cell_type": "markdown",
   "id": "11c8d10e",
   "metadata": {},
   "source": [
    "## Creating a fancier workbook"
   ]
  },
  {
   "cell_type": "markdown",
   "id": "1ac318c2",
   "metadata": {},
   "source": [
    "Let's try and make a spreadsheet now from python that has some fancier formatting and a basic chart."
   ]
  },
  {
   "cell_type": "code",
   "execution_count": 4,
   "id": "e863b7fc",
   "metadata": {},
   "outputs": [],
   "source": [
    "from openpyxl import Workbook\n",
    "wb = Workbook()\n",
    "ws = wb.active\n",
    "cardData = [\n",
    "    [\"Name\", \"Mana Color\", \"Cost\"],\n",
    "    [\"Lightning, Army of One\", \"Red, White\", 2],\n",
    "    [\"Traveling Chocobo\", \"Green\", 3],\n",
    "    [\"Y'shtola Rhul\", \"Blue\", 6]\n",
    "]\n"
   ]
  },
  {
   "cell_type": "markdown",
   "id": "3a43b57d",
   "metadata": {},
   "source": [
    "Next we’ll enter this data onto the worksheet. As this is a list of lists, we can simply use the `Worksheet.append()` function.\n"
   ]
  },
  {
   "cell_type": "code",
   "execution_count": 5,
   "id": "bbde2d41",
   "metadata": {},
   "outputs": [],
   "source": [
    "for row in cardData:\n",
    "    ws.append(row)"
   ]
  },
  {
   "cell_type": "markdown",
   "id": "6778248e",
   "metadata": {},
   "source": [
    "Now we should make our heading Bold to make it stand out a bit more, to do that we’ll need to create a styles.Font and apply it to all the cells in our header row.\n"
   ]
  },
  {
   "cell_type": "code",
   "execution_count": 6,
   "id": "f0fefcf6",
   "metadata": {},
   "outputs": [],
   "source": [
    "from openpyxl.styles import Font\n",
    "ft = Font(bold=True)\n",
    "for row in ws[\"A1:C1\"]:\n",
    "    for cell in row:\n",
    "        cell.font = ft"
   ]
  },
  {
   "cell_type": "markdown",
   "id": "03892f81",
   "metadata": {},
   "source": [
    "We can also use built-in worksheet functions that OpenPyXL supports. Doing things this way means if someone manually edits the spreadsheet it will automatically update values. "
   ]
  },
  {
   "cell_type": "code",
   "execution_count": 7,
   "id": "307bf80c",
   "metadata": {},
   "outputs": [
    {
     "data": {
      "text/plain": [
       "frozenset({'ABS',\n",
       "           'ACCRINT',\n",
       "           'ACCRINTM',\n",
       "           'ACOS',\n",
       "           'ACOSH',\n",
       "           'ADDRESS',\n",
       "           'AMORDEGRC',\n",
       "           'AMORLINC',\n",
       "           'AND',\n",
       "           'AREAS',\n",
       "           'ASC',\n",
       "           'ASIN',\n",
       "           'ASINH',\n",
       "           'ATAN',\n",
       "           'ATAN2',\n",
       "           'ATANH',\n",
       "           'AVEDEV',\n",
       "           'AVERAGE',\n",
       "           'AVERAGEA',\n",
       "           'AVERAGEIF',\n",
       "           'AVERAGEIFS',\n",
       "           'BAHTTEXT',\n",
       "           'BESSELI',\n",
       "           'BESSELJ',\n",
       "           'BESSELK',\n",
       "           'BESSELY',\n",
       "           'BETADIST',\n",
       "           'BETAINV',\n",
       "           'BIN2DEC',\n",
       "           'BIN2HEX',\n",
       "           'BIN2OCT',\n",
       "           'BINOMDIST',\n",
       "           'CEILING',\n",
       "           'CELL',\n",
       "           'CHAR',\n",
       "           'CHIDIST',\n",
       "           'CHIINV',\n",
       "           'CHITEST',\n",
       "           'CHOOSE',\n",
       "           'CLEAN',\n",
       "           'CODE',\n",
       "           'COLUMN',\n",
       "           'COLUMNS',\n",
       "           'COMBIN',\n",
       "           'COMPLEX',\n",
       "           'CONCATENATE',\n",
       "           'CONFIDENCE',\n",
       "           'CONVERT',\n",
       "           'CORREL',\n",
       "           'COS',\n",
       "           'COSH',\n",
       "           'COUNT',\n",
       "           'COUNTA',\n",
       "           'COUNTBLANK',\n",
       "           'COUNTIF',\n",
       "           'COUNTIFS',\n",
       "           'COUPDAYBS',\n",
       "           'COUPDAYS',\n",
       "           'COUPDAYSNC',\n",
       "           'COUPNCD',\n",
       "           'COUPNUM',\n",
       "           'COUPPCD',\n",
       "           'COVAR',\n",
       "           'CRITBINOM',\n",
       "           'CUBEKPIMEMBER',\n",
       "           'CUBEMEMBER',\n",
       "           'CUBEMEMBERPROPERTY',\n",
       "           'CUBERANKEDMEMBER',\n",
       "           'CUBESET',\n",
       "           'CUBESETCOUNT',\n",
       "           'CUBEVALUE',\n",
       "           'CUMIPMT',\n",
       "           'CUMPRINC',\n",
       "           'DATE',\n",
       "           'DATEDIF',\n",
       "           'DATEVALUE',\n",
       "           'DAVERAGE',\n",
       "           'DAY',\n",
       "           'DAYS360',\n",
       "           'DB',\n",
       "           'DCOUNT',\n",
       "           'DCOUNTA',\n",
       "           'DDB',\n",
       "           'DEC2BIN',\n",
       "           'DEC2HEX',\n",
       "           'DEC2OCT',\n",
       "           'DEGREES',\n",
       "           'DELTA',\n",
       "           'DEVSQ',\n",
       "           'DGET',\n",
       "           'DISC',\n",
       "           'DMAX',\n",
       "           'DMIN',\n",
       "           'DOLLAR',\n",
       "           'DOLLARDE',\n",
       "           'DOLLARFR',\n",
       "           'DPRODUCT',\n",
       "           'DSTDEV',\n",
       "           'DSTDEVP',\n",
       "           'DSUM',\n",
       "           'DURATION',\n",
       "           'DVAR',\n",
       "           'DVARP',\n",
       "           'ECMA.CEILING',\n",
       "           'EDATE',\n",
       "           'EFFECT',\n",
       "           'EOMONTH',\n",
       "           'ERF',\n",
       "           'ERFC',\n",
       "           'ERROR.TYPE',\n",
       "           'EVEN',\n",
       "           'EXACT',\n",
       "           'EXP',\n",
       "           'EXPONDIST',\n",
       "           'FACT',\n",
       "           'FACTDOUBLE',\n",
       "           'FALSE',\n",
       "           'FDIST',\n",
       "           'FIND',\n",
       "           'FINDB',\n",
       "           'FINV',\n",
       "           'FISHER',\n",
       "           'FISHERINV',\n",
       "           'FIXED',\n",
       "           'FLOOR',\n",
       "           'FORECAST',\n",
       "           'FREQUENCY',\n",
       "           'FTEST',\n",
       "           'FV',\n",
       "           'FVSCHEDULE',\n",
       "           'GAMMADIST',\n",
       "           'GAMMAINV',\n",
       "           'GAMMALN',\n",
       "           'GCD',\n",
       "           'GEOMEAN',\n",
       "           'GESTEP',\n",
       "           'GETPIVOTDATA',\n",
       "           'GROWTH',\n",
       "           'HARMEAN',\n",
       "           'HEX2BIN',\n",
       "           'HEX2DEC',\n",
       "           'HEX2OCT',\n",
       "           'HLOOKUP',\n",
       "           'HOUR',\n",
       "           'HYPERLINK',\n",
       "           'HYPGEOMDIST',\n",
       "           'IF',\n",
       "           'IFERROR',\n",
       "           'IMABS',\n",
       "           'IMAGINARY',\n",
       "           'IMARGUMENT',\n",
       "           'IMCONJUGATE',\n",
       "           'IMCOS',\n",
       "           'IMDIV',\n",
       "           'IMEXP',\n",
       "           'IMLN',\n",
       "           'IMLOG10',\n",
       "           'IMLOG2',\n",
       "           'IMPOWER',\n",
       "           'IMPRODUCT',\n",
       "           'IMREAL',\n",
       "           'IMSIN',\n",
       "           'IMSQRT',\n",
       "           'IMSUB',\n",
       "           'IMSUM',\n",
       "           'INDEX',\n",
       "           'INDIRECT',\n",
       "           'INFO',\n",
       "           'INT',\n",
       "           'INTERCEPT',\n",
       "           'INTRATE',\n",
       "           'IPMT',\n",
       "           'IRR',\n",
       "           'ISBLANK',\n",
       "           'ISERR',\n",
       "           'ISERROR',\n",
       "           'ISEVEN',\n",
       "           'ISLOGICAL',\n",
       "           'ISNA',\n",
       "           'ISNONTEXT',\n",
       "           'ISNUMBER',\n",
       "           'ISO.CEILING',\n",
       "           'ISODD',\n",
       "           'ISPMT',\n",
       "           'ISREF',\n",
       "           'ISTEXT',\n",
       "           'JIS',\n",
       "           'KURT',\n",
       "           'LARGE',\n",
       "           'LCM',\n",
       "           'LEFT',\n",
       "           'LEFTB',\n",
       "           'LEN',\n",
       "           'LENB',\n",
       "           'LINEST',\n",
       "           'LN',\n",
       "           'LOG',\n",
       "           'LOG10',\n",
       "           'LOGEST',\n",
       "           'LOGINV',\n",
       "           'LOGNORMDIST',\n",
       "           'LOOKUP',\n",
       "           'LOWER',\n",
       "           'MATCH',\n",
       "           'MAX',\n",
       "           'MAXA',\n",
       "           'MDETERM',\n",
       "           'MDURATION',\n",
       "           'MEDIAN',\n",
       "           'MID',\n",
       "           'MIDB',\n",
       "           'MIN',\n",
       "           'MINA',\n",
       "           'MINUTE',\n",
       "           'MINVERSE',\n",
       "           'MIRR',\n",
       "           'MMULT',\n",
       "           'MOD',\n",
       "           'MODE',\n",
       "           'MONTH',\n",
       "           'MROUND',\n",
       "           'MULTINOMIAL',\n",
       "           'N',\n",
       "           'NA',\n",
       "           'NEGBINOMDIST',\n",
       "           'NETWORKDAYS',\n",
       "           'NETWORKDAYS.INTL',\n",
       "           'NOMINAL',\n",
       "           'NORMDIST',\n",
       "           'NORMINV',\n",
       "           'NORMSDIST',\n",
       "           'NORMSINV',\n",
       "           'NOT',\n",
       "           'NOW',\n",
       "           'NPER',\n",
       "           'NPV',\n",
       "           'OCT2BIN',\n",
       "           'OCT2DEC',\n",
       "           'OCT2HEX',\n",
       "           'ODD',\n",
       "           'ODDFPRICE',\n",
       "           'ODDFYIELD',\n",
       "           'ODDLPRICE',\n",
       "           'ODDLYIELD',\n",
       "           'OFFSET',\n",
       "           'OR',\n",
       "           'PEARSON',\n",
       "           'PERCENTILE',\n",
       "           'PERCENTRANK',\n",
       "           'PERMUT',\n",
       "           'PHONETIC',\n",
       "           'PI',\n",
       "           'PMT',\n",
       "           'POISSON',\n",
       "           'POWER',\n",
       "           'PPMT',\n",
       "           'PRICE',\n",
       "           'PRICEDISC',\n",
       "           'PRICEMAT',\n",
       "           'PROB',\n",
       "           'PRODUCT',\n",
       "           'PROPER',\n",
       "           'PV',\n",
       "           'QUARTILE',\n",
       "           'QUOTIENT',\n",
       "           'RADIANS',\n",
       "           'RAND',\n",
       "           'RANDBETWEEN',\n",
       "           'RANK',\n",
       "           'RATE',\n",
       "           'RECEIVED',\n",
       "           'REPLACE',\n",
       "           'REPLACEB',\n",
       "           'REPT',\n",
       "           'RIGHT',\n",
       "           'RIGHTB',\n",
       "           'ROMAN',\n",
       "           'ROUND',\n",
       "           'ROUNDDOWN',\n",
       "           'ROUNDUP',\n",
       "           'ROW',\n",
       "           'ROWS',\n",
       "           'RSQ',\n",
       "           'RTD',\n",
       "           'SEARCH',\n",
       "           'SEARCHB',\n",
       "           'SECOND',\n",
       "           'SERIESSUM',\n",
       "           'SIGN',\n",
       "           'SIN',\n",
       "           'SINH',\n",
       "           'SKEW',\n",
       "           'SLN',\n",
       "           'SLOPE',\n",
       "           'SMALL',\n",
       "           'SQRT',\n",
       "           'SQRTPI',\n",
       "           'STANDARDIZE',\n",
       "           'STDEV',\n",
       "           'STDEVA',\n",
       "           'STDEVP',\n",
       "           'STDEVPA',\n",
       "           'STEYX',\n",
       "           'SUBSTITUTE',\n",
       "           'SUBTOTAL',\n",
       "           'SUM',\n",
       "           'SUMIF',\n",
       "           'SUMIFS',\n",
       "           'SUMPRODUCT',\n",
       "           'SUMSQ',\n",
       "           'SUMX2MY2',\n",
       "           'SUMX2PY2',\n",
       "           'SUMXMY2',\n",
       "           'SYD',\n",
       "           'T',\n",
       "           'TAN',\n",
       "           'TANH',\n",
       "           'TBILLEQ',\n",
       "           'TBILLPRICE',\n",
       "           'TBILLYIELD',\n",
       "           'TDIST',\n",
       "           'TEXT',\n",
       "           'TIME',\n",
       "           'TIMEVALUE',\n",
       "           'TINV',\n",
       "           'TODAY',\n",
       "           'TRANSPOSE',\n",
       "           'TREND',\n",
       "           'TRIM',\n",
       "           'TRIMMEAN',\n",
       "           'TRUE',\n",
       "           'TRUNC',\n",
       "           'TTEST',\n",
       "           'TYPE',\n",
       "           'UPPER',\n",
       "           'VALUE',\n",
       "           'VAR',\n",
       "           'VARA',\n",
       "           'VARP',\n",
       "           'VARPA',\n",
       "           'VDB',\n",
       "           'VLOOKUP',\n",
       "           'WEEKDAY',\n",
       "           'WEEKNUM',\n",
       "           'WEIBULL',\n",
       "           'WORKDAY',\n",
       "           'WORKDAY.INTL',\n",
       "           'XIRR',\n",
       "           'XNPV',\n",
       "           'YEAR',\n",
       "           'YEARFRAC',\n",
       "           'YIELD',\n",
       "           'YIELDDISC',\n",
       "           'YIELDMAT',\n",
       "           'ZTEST'})"
      ]
     },
     "execution_count": 7,
     "metadata": {},
     "output_type": "execute_result"
    }
   ],
   "source": [
    "from openpyxl.utils import FORMULAE\n",
    "FORMULAE"
   ]
  },
  {
   "cell_type": "code",
   "execution_count": 8,
   "id": "f4e37cfd",
   "metadata": {},
   "outputs": [],
   "source": [
    "ws[\"C5\"] = \"=SUM(C2:C4)\""
   ]
  },
  {
   "cell_type": "markdown",
   "id": "72bf878a",
   "metadata": {},
   "source": [
    "It’s time to make some charts. First, we’ll start by importing the appropriate packages from `openpyxl.chart` then define some basic attributes\n"
   ]
  },
  {
   "cell_type": "code",
   "execution_count": 9,
   "id": "8f879cec",
   "metadata": {},
   "outputs": [],
   "source": [
    "from openpyxl.chart import BarChart, Series, Reference\n",
    "chart = BarChart()\n",
    "chart.type = \"col\"\n",
    "chart.title = \"Card CMC Cost\"\n",
    "chart.y_axis.title = 'Mana Cost'\n",
    "chart.x_axis.title = 'Card Name'\n",
    "chart.legend = None"
   ]
  },
  {
   "cell_type": "markdown",
   "id": "35720e05",
   "metadata": {},
   "source": [
    "That’s created the skeleton of what will be our bar chart. Now we need to add references to where the data is and pass that to the chart object\n"
   ]
  },
  {
   "cell_type": "code",
   "execution_count": 10,
   "id": "0e68b4cf",
   "metadata": {},
   "outputs": [],
   "source": [
    "data = Reference(ws, min_col=3, min_row=2, max_row=4, max_col=3)\n",
    "categories = Reference(ws, min_col=1, min_row=2, max_row=4, max_col=1)\n",
    "chart.add_data(data)\n",
    "chart.set_categories(categories)\n",
    "\n",
    "# Finally we can add it to the sheet.\n",
    "\n",
    "ws.add_chart(chart, \"E1\")\n",
    "wb.save(\"cardData.xlsx\")"
   ]
  },
  {
   "cell_type": "markdown",
   "id": "b810fef3",
   "metadata": {},
   "source": [
    "There are a lot more options here for building out your custom worksheets, including adding images, shapes, and more. You can find the full documentation for OpenPyXL [here](https://openpyxl.readthedocs.io/en/stable/index.html)."
   ]
  }
 ],
 "metadata": {
  "kernelspec": {
   "display_name": ".venv",
   "language": "python",
   "name": "python3"
  },
  "language_info": {
   "codemirror_mode": {
    "name": "ipython",
    "version": 3
   },
   "file_extension": ".py",
   "mimetype": "text/x-python",
   "name": "python",
   "nbconvert_exporter": "python",
   "pygments_lexer": "ipython3",
   "version": "3.13.2"
  }
 },
 "nbformat": 4,
 "nbformat_minor": 5
}
