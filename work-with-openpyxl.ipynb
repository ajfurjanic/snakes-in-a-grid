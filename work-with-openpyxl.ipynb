{
 "cells": [
  {
   "cell_type": "markdown",
   "id": "6a8cc18b",
   "metadata": {},
   "source": [
    "<img src=\"img/tutorial-grid-snakes-light-header.svg\" alt=\"tutorial-logo\" style=\"width: 100%;\"/>"
   ]
  },
  {
   "cell_type": "markdown",
   "id": "c7fb72f8",
   "metadata": {},
   "source": [
    "# Working with spreadsheets with OpenPyXL\n",
    "\n",
    "In this section of the tutorial, we will learn how to work with spreadsheets using the [`openpyxl`](https://openpyxl.readthedocs.io/en/stable/index.html) library in Python. [`openpyxl`](https://openpyxl.readthedocs.io/en/stable/index.html) is a powerful library that allows you to read, write, and manipulate spreadsheet files in the Excel 2010 `xlsx`/`xlsm`/`xltx`/`xltm` format."
   ]
  },
  {
   "cell_type": "code",
   "execution_count": 1,
   "id": "36212cf2",
   "metadata": {},
   "outputs": [
    {
     "data": {
      "text/plain": [
       "29"
      ]
     },
     "execution_count": 1,
     "metadata": {},
     "output_type": "execute_result"
    }
   ],
   "source": [
    "from openpyxl import load_workbook\n",
    "wb = load_workbook(filename = 'test.xlsx')\n",
    "#sheet_ranges = wb['range names']\n",
    "#print(sheet_ranges['D2'].value)\n",
    "wb.active['j2'].value"
   ]
  }
 ],
 "metadata": {
  "kernelspec": {
   "display_name": ".venv",
   "language": "python",
   "name": "python3"
  },
  "language_info": {
   "codemirror_mode": {
    "name": "ipython",
    "version": 3
   },
   "file_extension": ".py",
   "mimetype": "text/x-python",
   "name": "python",
   "nbconvert_exporter": "python",
   "pygments_lexer": "ipython3",
   "version": "3.13.2"
  }
 },
 "nbformat": 4,
 "nbformat_minor": 5
}
