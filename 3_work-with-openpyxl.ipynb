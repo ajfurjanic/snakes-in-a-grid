{
 "cells": [
  {
   "cell_type": "markdown",
   "id": "6a8cc18b",
   "metadata": {},
   "source": [
    "<img src=\"img/tutorial-grid-snakes-dark-header.svg\" alt=\"tutorial-logo\" style=\"width: 100%;\"/>"
   ]
  },
  {
   "cell_type": "markdown",
   "id": "c7fb72f8",
   "metadata": {},
   "source": [
    "# Working with spreadsheets with OpenPyXL\n",
    "\n",
    "In this section of the tutorial, we will learn how to work with spreadsheets using the [`openpyxl`](https://openpyxl.readthedocs.io/en/stable/index.html) library in Python. [`openpyxl`](https://openpyxl.readthedocs.io/en/stable/index.html) is a powerful library that allows you to read, write, and manipulate spreadsheet files in the Excel 2010 `xlsx`/`xlsm`/`xltx`/`xltm` format."
   ]
  },
  {
   "cell_type": "markdown",
   "id": "1cbda97a",
   "metadata": {},
   "source": [
    "There are a few other options that might address other usecases:\n",
    "- [`pylightxl`](https://github.com/PydPiper/pylightxl) if you need just cell data and want a lightweight, pure python library\n",
    "- [`xlsxwriter`](https://xlsxwriter.readthedocs.io/) another one of the engines that Pandas can use to read/write Excel files"
   ]
  },
  {
   "cell_type": "markdown",
   "id": "fb9f159a",
   "metadata": {},
   "source": [
    ">N.B. OpenPyXL needs `pillow` to work with images in the spreadsheets, so make sure to install it if you are not working in the dev container!\n"
   ]
  },
  {
   "cell_type": "markdown",
   "id": "fbd77c0f",
   "metadata": {},
   "source": [
    "## Loading data from a spreadsheet"
   ]
  },
  {
   "cell_type": "code",
   "execution_count": 5,
   "id": "36212cf2",
   "metadata": {},
   "outputs": [
    {
     "data": {
      "text/plain": [
       "1.4"
      ]
     },
     "execution_count": 5,
     "metadata": {},
     "output_type": "execute_result"
    }
   ],
   "source": [
    "from openpyxl import load_workbook\n",
    "wb = load_workbook(filename = 'sample-data/iris-data.xlsx')\n",
    "wb.active['c3'].value"
   ]
  },
  {
   "cell_type": "markdown",
   "id": "af9f0cb7",
   "metadata": {},
   "source": [
    "> N.B. openpyxl does currently not read all possible items in an Excel file so shapes will be lost from existing files if they are opened and saved with the same name."
   ]
  },
  {
   "cell_type": "markdown",
   "id": "1387c8c1",
   "metadata": {},
   "source": [
    "data_only controls whether cells with formulae have either the\n",
    "formula (default) or the value stored the last time Excel read the sheet.\n",
    "\n",
    "keep_vba controls whether any Visual Basic elements are preserved or\n",
    "not (default). If they are preserved they are still not editable.\n",
    "\n",
    "read-only opens workbooks in a read-only mode. This uses much less\n",
    "memory and is faster but not all features are available (charts, images, etc.)\n",
    "\n",
    "rich_text controls whether any rich-text formatting in cells is\n",
    "preserved. The default is False.\n",
    "\n",
    "keep_links controls whether data cached from external workbooks is\n",
    "preserved"
   ]
  },
  {
   "cell_type": "markdown",
   "id": "34fda2e2",
   "metadata": {},
   "source": [
    "## Creating a basic spreadsheet from scratch"
   ]
  },
  {
   "cell_type": "code",
   "execution_count": 2,
   "id": "81fffdac",
   "metadata": {},
   "outputs": [],
   "source": [
    "from openpyxl import Workbook\n",
    "wb = Workbook()\n",
    "\n",
    "# grab the active worksheet\n",
    "ws = wb.active\n",
    "\n",
    "# Data can be assigned directly to cells\n",
    "ws['A1'] = 42\n",
    "\n",
    "# Rows can also be appended\n",
    "ws.append([1, 2, 3])\n",
    "\n",
    "# Python types will automatically be converted\n",
    "import datetime\n",
    "ws['A2'] = datetime.datetime.now()\n",
    "\n",
    "# Save the file\n",
    "wb.save(\"sample-data/scratch.xlsx\")"
   ]
  },
  {
   "cell_type": "markdown",
   "id": "11c8d10e",
   "metadata": {},
   "source": [
    "## Creating a fancier workbook"
   ]
  },
  {
   "cell_type": "code",
   "execution_count": 3,
   "id": "e863b7fc",
   "metadata": {},
   "outputs": [],
   "source": [
    "from openpyxl import Workbook\n",
    "wb = Workbook()\n",
    "ws = wb.active\n",
    "treeData = [[\"Type\", \"Leaf Color\", \"Height\"], [\"Maple\", \"Red\", 549], [\"Oak\", \"Green\", 783], [\"Pine\", \"Green\", 1204]]\n",
    "# Next we’ll enter this data onto the worksheet. As this is a list of lists, we can simply use the Worksheet.append() function.\n",
    "\n",
    "for row in treeData:\n",
    "    ws.append(row)\n",
    "# Now we should make our heading Bold to make it stand out a bit more, to do that we’ll need to create a styles.Font and apply it to all the cells in our header row.\n",
    "\n",
    "from openpyxl.styles import Font\n",
    "ft = Font(bold=True)\n",
    "for row in ws[\"A1:C1\"]:\n",
    "    for cell in row:\n",
    "        cell.font = ft\n",
    "# It’s time to make some charts. First, we’ll start by importing the appropriate packages from openpyxl.chart then define some basic attributes\n",
    "\n",
    "from openpyxl.chart import BarChart, Series, Reference\n",
    "chart = BarChart()\n",
    "chart.type = \"col\"\n",
    "chart.title = \"Tree Height\"\n",
    "chart.y_axis.title = 'Height (cm)'\n",
    "chart.x_axis.title = 'Tree Type'\n",
    "chart.legend = None\n",
    "# That’s created the skeleton of what will be our bar chart. Now we need to add references to where the data is and pass that to the chart object\n",
    "\n",
    "data = Reference(ws, min_col=3, min_row=2, max_row=4, max_col=3)\n",
    "categories = Reference(ws, min_col=1, min_row=2, max_row=4, max_col=1)\n",
    "chart.add_data(data)\n",
    "chart.set_categories(categories)\n",
    "# Finally we can add it to the sheet.\n",
    "\n",
    "ws.add_chart(chart, \"E1\")\n",
    "wb.save(\"TreeData.xlsx\")"
   ]
  },
  {
   "cell_type": "markdown",
   "id": "3de70de2",
   "metadata": {},
   "source": [
    "### Styling cells\n",
    "\n",
    "### Rich Text\n",
    "\n",
    "### Conditional Formatting\n",
    "### Row and column manipulation\n",
    "### Worksheet properties\n",
    "### Data Validation\n",
    "### Tables + Charts\n",
    "### Filtering and sorting\n",
    "### Pivot tables\n",
    "### Comments (text only)\n",
    "### dates and times\n",
    "### Formulae\n",
    "### Charts\n",
    "- Chartsheets\n",
    "### Images\n",
    "\n"
   ]
  }
 ],
 "metadata": {
  "kernelspec": {
   "display_name": ".venv",
   "language": "python",
   "name": "python3"
  },
  "language_info": {
   "codemirror_mode": {
    "name": "ipython",
    "version": 3
   },
   "file_extension": ".py",
   "mimetype": "text/x-python",
   "name": "python",
   "nbconvert_exporter": "python",
   "pygments_lexer": "ipython3",
   "version": "3.13.2"
  }
 },
 "nbformat": 4,
 "nbformat_minor": 5
}
