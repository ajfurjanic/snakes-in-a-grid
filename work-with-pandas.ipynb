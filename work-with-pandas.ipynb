{
 "cells": [
  {
   "cell_type": "markdown",
   "id": "6a8cc18b",
   "metadata": {},
   "source": [
    "<img src=\"img/tutorial-grid-snakes-dark-qr.png\" alt=\"tutorial-logo\" style=\"width: 30%; max-width: 600px;\"/>"
   ]
  },
  {
   "cell_type": "code",
   "execution_count": 3,
   "id": "97e2bf3f",
   "metadata": {},
   "outputs": [],
   "source": [
    "import pandas as pd\n",
    "\n",
    "pd.DataFrame(\n",
    "    {\n",
    "        \"a\": [1, 2, 3],\n",
    "        \"b\": [4, 5, 6],\n",
    "        \"c\": [7, 8, 9],\n",
    "        \"d\": [10, 11, 12],\n",
    "        \"e\": [13, 14, 15],\n",
    "        \"f\": [16, 17, 18],\n",
    "        \"g\": [19, 20, 21],\n",
    "        \"h\": [22, 23, 24],\n",
    "        \"i\": [25, 26, 27],\n",
    "        \"j\": [28, 29, 30],\n",
    "        \"k\": [31, 32, 33]\n",
    "    }).to_excel(\n",
    "    \"test.xlsx\",\n",
    "    index=False,\n",
    "    header=False)"
   ]
  },
  {
   "cell_type": "code",
   "execution_count": 7,
   "id": "36212cf2",
   "metadata": {},
   "outputs": [
    {
     "data": {
      "text/plain": [
       "29"
      ]
     },
     "execution_count": 7,
     "metadata": {},
     "output_type": "execute_result"
    }
   ],
   "source": [
    "from openpyxl import load_workbook\n",
    "wb = load_workbook(filename = 'test.xlsx')\n",
    "#sheet_ranges = wb['range names']\n",
    "#print(sheet_ranges['D2'].value)\n",
    "wb.active['j2'].value"
   ]
  }
 ],
 "metadata": {
  "kernelspec": {
   "display_name": ".venv",
   "language": "python",
   "name": "python3"
  },
  "language_info": {
   "codemirror_mode": {
    "name": "ipython",
    "version": 3
   },
   "file_extension": ".py",
   "mimetype": "text/x-python",
   "name": "python",
   "nbconvert_exporter": "python",
   "pygments_lexer": "ipython3",
   "version": "3.13.2"
  }
 },
 "nbformat": 4,
 "nbformat_minor": 5
}
