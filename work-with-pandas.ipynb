{
 "cells": [
  {
   "cell_type": "markdown",
   "id": "2ee7a3ab",
   "metadata": {},
   "source": [
    "<img src=\"img/tutorial-grid-snakes-light-header.svg\" alt=\"tutorial-logo\" style=\"width: 100%;\"/>"
   ]
  },
  {
   "cell_type": "markdown",
   "id": "a5581198",
   "metadata": {},
   "source": [
    "# Working with spreadsheets with OpenPyXL\n",
    "\n",
    "In this section of the tutorial, we will learn how to work with spreadsheets using the [`openpyxl`](https://openpyxl.readthedocs.io/en/stable/index.html) library in Python. [`openpyxl`](https://openpyxl.readthedocs.io/en/stable/index.html) is a powerful library that allows you to read, write, and manipulate spreadsheet files in the Excel 2010 `xlsx`/`xlsm`/`xltx`/`xltm` format."
   ]
  },
  {
   "cell_type": "code",
   "execution_count": 3,
   "id": "97e2bf3f",
   "metadata": {},
   "outputs": [],
   "source": [
    "import pandas as pd\n",
    "\n",
    "pd.DataFrame(\n",
    "    {\n",
    "        \"a\": [1, 2, 3],\n",
    "        \"b\": [4, 5, 6],\n",
    "        \"c\": [7, 8, 9],\n",
    "        \"d\": [10, 11, 12],\n",
    "        \"e\": [13, 14, 15],\n",
    "        \"f\": [16, 17, 18],\n",
    "        \"g\": [19, 20, 21],\n",
    "        \"h\": [22, 23, 24],\n",
    "        \"i\": [25, 26, 27],\n",
    "        \"j\": [28, 29, 30],\n",
    "        \"k\": [31, 32, 33]\n",
    "    }).to_excel(\n",
    "    \"test.xlsx\",\n",
    "    index=False,\n",
    "    header=False)"
   ]
  }
 ],
 "metadata": {
  "kernelspec": {
   "display_name": ".venv",
   "language": "python",
   "name": "python3"
  },
  "language_info": {
   "codemirror_mode": {
    "name": "ipython",
    "version": 3
   },
   "file_extension": ".py",
   "mimetype": "text/x-python",
   "name": "python",
   "nbconvert_exporter": "python",
   "pygments_lexer": "ipython3",
   "version": "3.13.2"
  }
 },
 "nbformat": 4,
 "nbformat_minor": 5
}
